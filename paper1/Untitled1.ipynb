{
 "cells": [
  {
   "cell_type": "code",
   "execution_count": 2,
   "metadata": {},
   "outputs": [],
   "source": [
    "import os\n",
    "import pandas\n",
    "import re, unicodedata\n",
    "from bs4 import BeautifulSoup\n",
    "import inflect\n",
    "import nltk\n",
    "from nltk import word_tokenize, sent_tokenize\n",
    "from nltk.corpus import stopwords\n",
    "from nltk.stem import LancasterStemmer, WordNetLemmatizer\n",
    "\n",
    "\n",
    "import sys\n",
    "import glob"
   ]
  },
  {
   "cell_type": "code",
   "execution_count": 3,
   "metadata": {},
   "outputs": [
    {
     "name": "stdout",
     "output_type": "stream",
     "text": [
      "['/home/megatron/Downloads/Labtwin_Machine_Learning_Engineering_Challenge/test/PMC1904367.html', '/home/megatron/Downloads/Labtwin_Machine_Learning_Engineering_Challenge/test/PMC1892351.html']\n"
     ]
    }
   ],
   "source": [
    "list_of_files = glob.glob('/home/megatron/Downloads/Labtwin_Machine_Learning_Engineering_Challenge/test/*.html')\n",
    "print(list_of_files)"
   ]
  },
  {
   "cell_type": "code",
   "execution_count": 5,
   "metadata": {},
   "outputs": [],
   "source": [
    "list_of_files = glob.glob('/home/megatron/Downloads/Labtwin_Machine_Learning_Engineering_Challenge/paper/test/*.html')\n",
    "\n",
    "for file_name in list_of_files:\n",
    "    #print(file_name)\n",
    "    f= open(file_name, 'r')\n",
    "    lst = []\n",
    "    line = denoise_text(f)\n",
    "    words = nltk.word_tokenize(line)\n",
    "    words = normalize(words)\n",
    "    \n",
    "    \n",
    "    #print(words)\n",
    "    ff = \" \".join(words) \n",
    "    print(ff)\n",
    "    \n",
    "    file1 = open(file_name+\"_tokenized\",'w')\n",
    "    file1.write(ff)\n",
    "    #print(line)\n",
    "    break\n",
    "    "
   ]
  },
  {
   "cell_type": "code",
   "execution_count": 5,
   "metadata": {},
   "outputs": [],
   "source": [
    "def strip_html(text):\n",
    "    soup = BeautifulSoup(text, \"html.parser\")\n",
    "    return soup.get_text()\n",
    "\n",
    "def remove_between_square_brackets(text):\n",
    "    return re.sub('\\[[^]]*\\]', '', text)\n",
    "\n",
    "def denoise_text(text):\n",
    "    text = strip_html(text)\n",
    "    text = remove_between_square_brackets(text)\n",
    "    return text\n",
    "\n",
    "#sample = denoise_text(all_text)\n",
    "#print(sample)"
   ]
  },
  {
   "cell_type": "code",
   "execution_count": 6,
   "metadata": {},
   "outputs": [],
   "source": [
    "def remove_non_ascii(words):\n",
    "    \"\"\"Remove non-ASCII characters from list of tokenized words\"\"\"\n",
    "    new_words = []\n",
    "    for word in words:\n",
    "        new_word = unicodedata.normalize('NFKD', word).encode('ascii', 'ignore').decode('utf-8', 'ignore')\n",
    "        new_words.append(new_word)\n",
    "    return new_words\n",
    "\n",
    "def to_lowercase(words):\n",
    "    \"\"\"Convert all characters to lowercase from list of tokenized words\"\"\"\n",
    "    new_words = []\n",
    "    for word in words:\n",
    "        new_word = word.lower()\n",
    "        new_words.append(new_word)\n",
    "    return new_words\n",
    "\n",
    "def remove_punctuation(words):\n",
    "    \"\"\"Remove punctuation from list of tokenized words\"\"\"\n",
    "    new_words = []\n",
    "    for word in words:\n",
    "        new_word = re.sub(r'[^\\w\\s]', '', word)\n",
    "        if new_word != '':\n",
    "            new_words.append(new_word)\n",
    "    return new_words\n",
    "\n",
    "def replace_numbers(words):\n",
    "    \"\"\"Replace all interger occurrences in list of tokenized words with textual representation\"\"\"\n",
    "    p = inflect.engine()\n",
    "    new_words = []\n",
    "    for word in words:\n",
    "        if word.isdigit():\n",
    "            new_word = p.number_to_words(word)\n",
    "            new_words.append(new_word)\n",
    "        else:\n",
    "            new_words.append(word)\n",
    "    return new_words\n",
    "\n",
    "def remove_stopwords(words):\n",
    "    \"\"\"Remove stop words from list of tokenized words\"\"\"\n",
    "    new_words = []\n",
    "    for word in words:\n",
    "        if word not in stopwords.words('english'):\n",
    "            new_words.append(word)\n",
    "    return new_words\n",
    "\n",
    "def normalize(words):\n",
    "    \n",
    "    words = remove_non_ascii(words)\n",
    "    words = to_lowercase(words)\n",
    "    words = remove_punctuation(words)\n",
    "    words = replace_numbers(words)\n",
    "    words = remove_stopwords(words)\n",
    "    return words\n",
    "\n",
    "#words = normalize(words)\n",
    "#print(words)"
   ]
  },
  {
   "cell_type": "code",
   "execution_count": 6,
   "metadata": {},
   "outputs": [
    {
     "ename": "TypeError",
     "evalue": "expected str, bytes or os.PathLike object, not list",
     "output_type": "error",
     "traceback": [
      "\u001b[0;31m---------------------------------------------------------------------------\u001b[0m",
      "\u001b[0;31mTypeError\u001b[0m                                 Traceback (most recent call last)",
      "\u001b[0;32m<ipython-input-6-f1b6cf331c5e>\u001b[0m in \u001b[0;36m<module>\u001b[0;34m()\u001b[0m\n\u001b[1;32m      1\u001b[0m \u001b[0;34m\u001b[0m\u001b[0m\n\u001b[0;32m----> 2\u001b[0;31m \u001b[0;32mwith\u001b[0m \u001b[0mopen\u001b[0m\u001b[0;34m(\u001b[0m\u001b[0mlist_of_files\u001b[0m\u001b[0;34m,\u001b[0m \u001b[0;34m'r'\u001b[0m\u001b[0;34m)\u001b[0m \u001b[0;32mas\u001b[0m \u001b[0mf\u001b[0m\u001b[0;34m:\u001b[0m\u001b[0;34m\u001b[0m\u001b[0;34m\u001b[0m\u001b[0m\n\u001b[0m\u001b[1;32m      3\u001b[0m     \u001b[0mcontent\u001b[0m \u001b[0;34m=\u001b[0m \u001b[0mf\u001b[0m\u001b[0;34m.\u001b[0m\u001b[0mreadlines\u001b[0m\u001b[0;34m(\u001b[0m\u001b[0;34m)\u001b[0m\u001b[0;34m\u001b[0m\u001b[0;34m\u001b[0m\u001b[0m\n\u001b[1;32m      4\u001b[0m     \u001b[0mprint\u001b[0m\u001b[0;34m(\u001b[0m\u001b[0mcontent\u001b[0m\u001b[0;34m)\u001b[0m\u001b[0;34m\u001b[0m\u001b[0;34m\u001b[0m\u001b[0m\n",
      "\u001b[0;31mTypeError\u001b[0m: expected str, bytes or os.PathLike object, not list"
     ]
    }
   ],
   "source": [
    "\n",
    "list_of_files = glob.glob('/home/megatron/Downloads/Labtwin_Machine_Learning_Engineering_Challenge/test/*.html')\n",
    "\n",
    "for file_name in list_of_files:\n",
    "    #print(file_name)\n",
    "    f= open(file_name, 'r')\n",
    "    lst = []\n",
    "    line = denoise_text(f)\n",
    "    words = nltk.word_tokenize(line)\n",
    "    words = normalize(words)\n",
    "    \n",
    "    save_path = '/home/megatron/Downloads/Labtwin_Machine_Learning_Engineering_Challenge/test1/'\n",
    "            \n",
    "\n",
    "    \n",
    "    \n",
    "\n",
    "    #print(words)\n",
    "    ff = \" \".join(words) \n",
    "    print(ff)\n",
    "    completeName = os.path.join(save_path, file_name+\"_normalized.txt\") \n",
    "    file1 = open(completeName,'w')\n",
    "    file1.write(ff)\n",
    "    #print(line)\n",
    "    break\n",
    "    "
   ]
  },
  {
   "cell_type": "code",
   "execution_count": null,
   "metadata": {},
   "outputs": [],
   "source": [
    "list_of_files = glob.glob('/home/megatron/Downloads/Labtwin_Machine_Learning_Engineering_Challenge/paper/*.html')\n",
    "\n",
    "for file_name in list_of_files:\n",
    "    #print(file_name)\n",
    "    f= open(file_name, 'r')\n",
    "    lst = []\n",
    "    line = denoise_text(f)\n",
    "    words = nltk.word_tokenize(line)\n",
    "    words = normalize(words)\n",
    "    \n",
    "    \n",
    "    #print(words)\n",
    "    ff = \" \".join(words) \n",
    "    print(ff)\n",
    "    \n",
    "    file1 = open(file_name+\"_tokenized\",'w')\n",
    "    file1.write(ff)\n",
    "    #print(line)\n",
    "    break\n",
    "    "
   ]
  },
  {
   "cell_type": "code",
   "execution_count": null,
   "metadata": {},
   "outputs": [],
   "source": []
  }
 ],
 "metadata": {
  "kernelspec": {
   "display_name": "Python 3",
   "language": "python",
   "name": "python3"
  },
  "language_info": {
   "codemirror_mode": {
    "name": "ipython",
    "version": 3
   },
   "file_extension": ".py",
   "mimetype": "text/x-python",
   "name": "python",
   "nbconvert_exporter": "python",
   "pygments_lexer": "ipython3",
   "version": "3.6.7"
  }
 },
 "nbformat": 4,
 "nbformat_minor": 2
}
